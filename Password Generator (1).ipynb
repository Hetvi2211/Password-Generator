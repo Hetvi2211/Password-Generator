{
 "cells": [
  {
   "cell_type": "code",
   "execution_count": 1,
   "id": "dae68998-1179-4aab-b69a-a88d8f305a1d",
   "metadata": {},
   "outputs": [],
   "source": [
    "import random\n",
    "import string"
   ]
  },
  {
   "cell_type": "code",
   "execution_count": 3,
   "id": "ef81afed-d436-49b8-9ecc-93eec4f80c3b",
   "metadata": {},
   "outputs": [],
   "source": [
    "def generate_password(length, use_uppercase, use_numbers, use_special_characters):\n",
    "    # Define the character pool based on user preferences\n",
    "    char_pool = string.ascii_lowercase  # Start with lowercase letters\n",
    "    \n",
    "    if use_uppercase:\n",
    "        char_pool += string.ascii_uppercase  # Add uppercase letters if requested\n",
    "    if use_numbers:\n",
    "        char_pool += string.digits  # Add numbers if requested\n",
    "    if use_special_characters:\n",
    "        char_pool += string.punctuation  # Add special characters if requested\n",
    "    \n",
    "    # Generate a random password from the available character pool\n",
    "    password = ''.join(random.choice(char_pool) for _ in range(length))\n",
    "    \n",
    "    return password"
   ]
  },
  {
   "cell_type": "code",
   "execution_count": 5,
   "id": "a57157de-4a2b-46bf-add2-578ad4b31559",
   "metadata": {},
   "outputs": [],
   "source": [
    "def main():\n",
    "    print(\"Welcome to the Password Generator!\")\n",
    "    \n",
    "    while True:\n",
    "        # Get user input for password length\n",
    "        try:\n",
    "            length = int(input(\"Enter the desired password length: \"))\n",
    "            if length < 6:\n",
    "                print(\"Password length should be at least 6 characters.\")\n",
    "                continue\n",
    "        except ValueError:\n",
    "            print(\"Please enter a valid number for the length.\")\n",
    "            continue\n",
    "        \n",
    "        # Get user input for character options\n",
    "        use_uppercase = input(\"Include uppercase letters? (y/n): \").lower() == 'y'\n",
    "        use_numbers = input(\"Include numbers? (y/n): \").lower() == 'y'\n",
    "        use_special_characters = input(\"Include special characters? (y/n): \").lower() == 'y'\n",
    "        \n",
    "        # Generate the password\n",
    "        password = generate_password(length, use_uppercase, use_numbers, use_special_characters)\n",
    "        \n",
    "        # Display the generated password\n",
    "        print(f\"Generated Password: {password}\")\n",
    "        \n",
    "        # Ask if the user wants to generate another password\n",
    "        another = input(\"Do you want to generate another password? (y/n): \").lower()\n",
    "        if another != 'y':\n",
    "            print(\"Thank you for using the Password Generator!\")\n",
    "            break\n"
   ]
  },
  {
   "cell_type": "code",
   "execution_count": 7,
   "id": "e455d6db-63c9-408e-9644-5acd06c0e932",
   "metadata": {},
   "outputs": [
    {
     "name": "stdout",
     "output_type": "stream",
     "text": [
      "Welcome to the Password Generator!\n"
     ]
    },
    {
     "name": "stdin",
     "output_type": "stream",
     "text": [
      "Enter the desired password length:  5\n"
     ]
    },
    {
     "name": "stdout",
     "output_type": "stream",
     "text": [
      "Password length should be at least 6 characters.\n"
     ]
    },
    {
     "name": "stdin",
     "output_type": "stream",
     "text": [
      "Enter the desired password length:  8\n",
      "Include uppercase letters? (y/n):  y\n",
      "Include numbers? (y/n):  y\n",
      "Include special characters? (y/n):  y\n"
     ]
    },
    {
     "name": "stdout",
     "output_type": "stream",
     "text": [
      "Generated Password: -Zm4w*5T\n"
     ]
    },
    {
     "name": "stdin",
     "output_type": "stream",
     "text": [
      "Do you want to generate another password? (y/n):  y\n",
      "Enter the desired password length:  6\n",
      "Include uppercase letters? (y/n):  n\n",
      "Include numbers? (y/n):  n\n",
      "Include special characters? (y/n):  n\n"
     ]
    },
    {
     "name": "stdout",
     "output_type": "stream",
     "text": [
      "Generated Password: deqzsu\n"
     ]
    },
    {
     "name": "stdin",
     "output_type": "stream",
     "text": [
      "Do you want to generate another password? (y/n):  n\n"
     ]
    },
    {
     "name": "stdout",
     "output_type": "stream",
     "text": [
      "Thank you for using the Password Generator!\n"
     ]
    }
   ],
   "source": [
    "if __name__ == \"__main__\":\n",
    "    main()"
   ]
  },
  {
   "cell_type": "code",
   "execution_count": null,
   "id": "d3a0d07d-d7ce-4772-aceb-0a928387a349",
   "metadata": {},
   "outputs": [],
   "source": []
  }
 ],
 "metadata": {
  "kernelspec": {
   "display_name": "Python [conda env:base] *",
   "language": "python",
   "name": "conda-base-py"
  },
  "language_info": {
   "codemirror_mode": {
    "name": "ipython",
    "version": 3
   },
   "file_extension": ".py",
   "mimetype": "text/x-python",
   "name": "python",
   "nbconvert_exporter": "python",
   "pygments_lexer": "ipython3",
   "version": "3.12.7"
  }
 },
 "nbformat": 4,
 "nbformat_minor": 5
}
